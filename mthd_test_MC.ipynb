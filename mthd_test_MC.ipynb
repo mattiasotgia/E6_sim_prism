{
 "cells": [
  {
   "cell_type": "code",
   "execution_count": 2,
   "id": "6bb3dec2-60ef-4d7c-b49b-cd119bb08e82",
   "metadata": {},
   "outputs": [],
   "source": [
    "import ROOT\n",
    "import matplotlib as mpl\n",
    "import matplotlib.pyplot as plt\n",
    "import numpy as np\n",
    "import hist\n",
    "import mplhep as hep"
   ]
  },
  {
   "cell_type": "code",
   "execution_count": 3,
   "id": "5a427659-d2a1-4107-90ec-5d819df99586",
   "metadata": {},
   "outputs": [],
   "source": [
    "mpl.style.use(hep.style.ATLAS)\n",
    "ROOT.gROOT.SetStyle('ATLAS')"
   ]
  },
  {
   "cell_type": "markdown",
   "id": "1ef02448-e112-490e-82f0-a4a3d7624eec",
   "metadata": {},
   "source": [
    "# Propagazione degli errori in misure correlate e simulazione di esperimento: spettrometro a prisma\n",
    "**M Sotgia<sup>1</sup>** \\\n",
    "_<sup>1</sup>Università degli studi di Genova, Dipartimento di Fisica_\n",
    "\n",
    "## Introduzione\n",
    "\n",
    "Un prisma ottico può essere utilizzato, sfruttando il fenomeno della rifrazione, come spettrometro (misuratore di lunghezza d'onda). \n",
    "\n",
    "Si sa che infatti la differenza $\\delta_i$ tra l'angolo in ingresso $\\theta_0$ e l'angolo in uscita $\\theta_i$ risulta essere legato al valore dell'indice di rifrazione del materiale, $$\\delta_i = \\theta_0 - \\alpha+\\arcsin\\left(n\\sin\\left(\\alpha - \\arcsin\\left(\\frac{\\sin\\theta_0}{n}\\right)\\right)\\right),\\tag{1}$$ con $n$ indice di rifrazione e $\\alpha$ apertura angolare del prisma. \n",
    "\n",
    "Si osserva che $\\delta_i$ ha un minimo in corrispondenza del quale la misura è più stabile e la relazione precedente si semplifica come $$n\\sin\\frac{\\alpha}{2} = \\sin\\frac{\\delta_m + \\alpha}{2} = \\sin\\theta_{0_m}.\\tag{2}$$\n",
    "\n",
    "Possiamo anche però ricavare la relazione che lega l'indice di rifrazione $n$ al valore di $\\delta_m$, e poichè $n=n(\\lambda)$, secondo la relazione di Cauchy $$n(\\lambda) = A + \\frac{B}{\\lambda^2},\\tag{3} $$ appropriata ad un ordine $\\mathcal O (1/\\lambda^2)$, con $A$ e $B$ coefficienti propri del materiale in questione, allora possiamo concludere che esistono relazioni che legano $\\lambda$ con il valore di $\\delta_i$. \n",
    "\n",
    "## Misura sperimentale\n",
    "\n",
    "Dal punto di vista sperimentale la misura di $\\delta$ si effettua nel modo seguente\n",
    "\n",
    " 1. si misura la direzione del raggio uscente in assenza di prisma ($\\theta_0$), corrisponde ovviamente alla direzione del raggio incidente\n",
    " 2. si ruota il prisma fino a trovare l'angolo di deviazione mimima  e misurare la direzione del raggio uscente ($\\theta_i$)\n",
    " 3. si calcola $\\delta_i^m = \\theta_i - \\theta_0$ "
   ]
  },
  {
   "cell_type": "code",
   "execution_count": 5,
   "id": "ec1e199b-4e79-46f0-ae6b-7b15241f7a96",
   "metadata": {},
   "outputs": [],
   "source": [
    "α = np.pi/3\n",
    "λ_1 = 579.1 ## [nm] Y\n",
    "λ_2 = 404.7 ## [nm] P\n",
    "θ_0 = 1.5701\n",
    "θ_1 = 2.6958\n",
    "θ_2 = 2.7904\n",
    "\n",
    "Δ_θ = 0.0005"
   ]
  },
  {
   "cell_type": "markdown",
   "id": "bb47c4f7-d457-4b00-8874-ebfc563bf46c",
   "metadata": {},
   "source": [
    "Per trovare il valore di $A$ e $B$, noti i valori di $\\theta_0$, $\\theta_1$ e $\\theta_2$, possiamo ottenere che questi sono legati dal sistema \n",
    "\n",
    "$$\\left\\{ \\begin{align*}   &n_1 \\sin\\left( {\\alpha \\over 2} \\right)\n",
    "  = \\sin\\left( {{\\theta_1-\\theta_0+\\alpha} \\over 2} \\right)\\\\\n",
    "   &n_2 \\sin\\left( {\\alpha \\over 2} \\right)\n",
    "  = \\sin\\left( {{\\theta_2-\\theta_0+\\alpha} \\over 2} \\right)\\\\\n",
    "  &n_1 = A + {B\\over \\lambda^2_1}\\\\\n",
    "  &n_2 = A + {B\\over \\lambda^2_2}\\\\\n",
    "  \\end{align*}\n",
    " \\right.\\tag{4}$$\n",
    " \n",
    "Trovo quindi che i coefficienti $A$ e $B$ possono essere espressi rispetto ai parametri del problema nella forma $$ \\left\\{\n",
    "\\begin{align*}\n",
    "n_i &= \\frac{\\sin\\left( {{\\theta_i-\\theta_0+\\alpha} \\over 2} \\right)}{\\sin\\left( {\\alpha \\over 2} \\right)} && i = 1,2 \\\\\n",
    "A &= \\frac{\\lambda_1^2 n_1 - \\lambda_2^2 n_2}{\\lambda_1^2 - \\lambda_2^2} \\\\\n",
    "B &= \\frac{n_1 - n_2}{{1\\over\\lambda_1^2} - {1\\over\\lambda_2^2}} \\\\\n",
    "\\end{align*}\n",
    "\\right.$$"
   ]
  },
  {
   "cell_type": "code",
   "execution_count": 6,
   "id": "b1f890bd-472e-4dd4-b7b1-abe9188791be",
   "metadata": {},
   "outputs": [],
   "source": [
    "def computeAB(th_0, th_1, th_2):\n",
    "    \n",
    "    def n_i(th_i, th_0):\n",
    "        return np.sin((th_i - th_0 + α)/2)/np.sin(α/2)\n",
    "    A = (n_i(th_1, th_0)*λ_1**2 - n_i(th_2, th_0)*λ_2**2)/(λ_1**2 - λ_2**2)\n",
    "    B = (n_i(th_1, th_0) - n_i(th_2, th_0))/(1/(λ_1**2) - 1/(λ_2**2))\n",
    "    return A, B"
   ]
  },
  {
   "cell_type": "markdown",
   "id": "9f02f195-0871-4dc3-84af-972ab4c21c9a",
   "metadata": {},
   "source": [
    "## Metodo _variazionale_ per trovare A, B\n",
    "\n",
    "Possiamo considerare la variazione dei valori di $\\theta_i$ nell'errore, e quindi considerare una stima dell'errore di $A$ e $B$ in questo modo. "
   ]
  },
  {
   "cell_type": "code",
   "execution_count": null,
   "id": "53b154ee-5757-4193-9600-0d22fc28794c",
   "metadata": {},
   "outputs": [],
   "source": [
    "A, B = computeAB(th_0=θ_0, th_1=θ_1, th_2=θ_2)\n"
   ]
  }
 ],
 "metadata": {
  "kernelspec": {
   "display_name": "Python 3",
   "language": "python",
   "name": "python3"
  },
  "language_info": {
   "codemirror_mode": {
    "name": "ipython",
    "version": 3
   },
   "file_extension": ".py",
   "mimetype": "text/x-python",
   "name": "python",
   "nbconvert_exporter": "python",
   "pygments_lexer": "ipython3",
   "version": "3.9.12"
  },
  "toc-autonumbering": true
 },
 "nbformat": 4,
 "nbformat_minor": 5
}
