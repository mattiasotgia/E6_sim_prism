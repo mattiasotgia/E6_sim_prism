{
 "cells": [
  {
   "cell_type": "markdown",
   "id": "9f29b243",
   "metadata": {},
   "source": [
    "# Schema spettrometro (notebook C++)"
   ]
  },
  {
   "cell_type": "markdown",
   "id": "9283c823",
   "metadata": {},
   "source": [
    "Sistema da risolvere:\n",
    "\n",
    "$\\left\\{ \\begin{align*}   &n_1 \\sin\\left( {\\alpha \\over 2} \\right)\n",
    "  = \\sin\\left( {{\\theta_1-\\theta_0+\\alpha} \\over 2} \\right)\\\\\n",
    "   &n_2 \\sin\\left( {\\alpha \\over 2} \\right)\n",
    "  = \\sin\\left( {{\\theta_2-\\theta_0+\\alpha} \\over 2} \\right)\\\\\n",
    "  &n_1 = A + {B\\over \\lambda^2_1}\\\\\n",
    "  &n_2 = A + {B\\over \\lambda^2_2}\\\\\n",
    "  \\end{align*}\n",
    " \\right.$"
   ]
  },
  {
   "cell_type": "markdown",
   "id": "1c8bd818",
   "metadata": {},
   "source": [
    "Parametri dello spettrometro"
   ]
  },
  {
   "cell_type": "code",
   "execution_count": 6,
   "id": "7bf13d18",
   "metadata": {},
   "outputs": [],
   "source": [
    "double alpha   = M_PI/3;\n",
    "double lambda1 = 579.1;\n",
    "double lambda2 = 404.7;\n",
    "double th0     = 1.5701;\n",
    "double th1     = 2.6958;\n",
    "double th2     = 2.7904;\n",
    "double eth     = 0.0005;\n"
   ]
  },
  {
   "cell_type": "markdown",
   "id": "a8ce1060",
   "metadata": {},
   "source": [
    "Funzione che, dati gli angoli $\\theta_0$, $\\theta_1$ e $\\theta_2$, calcola A e B"
   ]
  },
  {
   "cell_type": "code",
   "execution_count": 7,
   "id": "1d29fd4d",
   "metadata": {},
   "outputs": [],
   "source": [
    "void GetAB(double th0, double th1, double th2, double &A, double &B){\n",
    "  //...\n",
    "}\n"
   ]
  },
  {
   "cell_type": "markdown",
   "id": "320a0256",
   "metadata": {},
   "source": [
    "Programma principale"
   ]
  },
  {
   "cell_type": "code",
   "execution_count": 8,
   "id": "3a433a0f",
   "metadata": {},
   "outputs": [],
   "source": [
    "TRandom3 rnd;\n",
    "rnd.SetSeed(time(0));\n",
    "\n",
    "\n",
    "// Assumendo errore gaussiano (eth/sqrt(3)) \n",
    "// a) calcolo dell'errore su A e su B tramite variazione delle funzione\n",
    "// b) calcolo delle distribuzioni di A e B\n",
    "//    dell'errore su A, B e della loro correlazione\n",
    "\n",
    "// Ripetere punto b) nel caso in cui invece si assuma distribuzione uniforme con larghezza +/-eth\n"
   ]
  }
 ],
 "metadata": {
  "kernelspec": {
   "display_name": "ROOT C++",
   "language": "c++",
   "name": "root"
  },
  "language_info": {
   "codemirror_mode": "text/x-c++src",
   "file_extension": ".C",
   "mimetype": " text/x-c++src",
   "name": "c++"
  }
 },
 "nbformat": 4,
 "nbformat_minor": 5
}
