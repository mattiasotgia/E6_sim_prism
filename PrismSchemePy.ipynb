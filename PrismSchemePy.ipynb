{
 "cells": [
  {
   "cell_type": "markdown",
   "id": "a88a2a08",
   "metadata": {},
   "source": [
    "# Schema spettrometro (notebook Python)"
   ]
  },
  {
   "cell_type": "markdown",
   "id": "c992e8b2",
   "metadata": {},
   "source": [
    "Sistema da risolvere:\n",
    "\n",
    "$\\left\\{ \\begin{align*}   &n_1 \\sin\\left( {\\alpha \\over 2} \\right)\n",
    "  = \\sin\\left( {{\\theta_1-\\theta_0+\\alpha} \\over 2} \\right)\\\\\n",
    "   &n_2 \\sin\\left( {\\alpha \\over 2} \\right)\n",
    "  = \\sin\\left( {{\\theta_2-\\theta_0+\\alpha} \\over 2} \\right)\\\\\n",
    "  &n_1 = A + {B\\over \\lambda^2_1}\\\\\n",
    "  &n_2 = A + {B\\over \\lambda^2_2}\\\\\n",
    "  \\end{align*}\n",
    " \\right.$"
   ]
  },
  {
   "cell_type": "markdown",
   "id": "657dfdff",
   "metadata": {},
   "source": [
    "Import dei moduli rilevanti"
   ]
  },
  {
   "cell_type": "code",
   "execution_count": 21,
   "id": "4166ce28",
   "metadata": {},
   "outputs": [],
   "source": [
    "import math\n",
    "import ROOT\n",
    "import time"
   ]
  },
  {
   "cell_type": "markdown",
   "id": "a88000cc",
   "metadata": {},
   "source": [
    "Parametri dello spettrometro"
   ]
  },
  {
   "cell_type": "code",
   "execution_count": 22,
   "id": "86892c7d",
   "metadata": {},
   "outputs": [],
   "source": [
    "alpha   = math.pi/3\n",
    "lambda1 = 579.1\n",
    "lambda2 = 404.7\n",
    "th0     = 1.5701\n",
    "th1     = 2.6958\n",
    "th2     = 2.7904\n",
    "eth     = 0.0005"
   ]
  },
  {
   "cell_type": "markdown",
   "id": "292e2a50",
   "metadata": {},
   "source": [
    "Funzione che, dati gli angoli $\\theta_0$, $\\theta_1$ e $\\theta_2$, calcola A e B"
   ]
  },
  {
   "cell_type": "code",
   "execution_count": 23,
   "id": "43356e41",
   "metadata": {},
   "outputs": [],
   "source": [
    "def computeAB(th0,th1,th2):\n",
    "    #....\n",
    "    return A,B"
   ]
  },
  {
   "cell_type": "markdown",
   "id": "d64eaf16",
   "metadata": {},
   "source": [
    "Programma principale"
   ]
  },
  {
   "cell_type": "code",
   "execution_count": 24,
   "id": "5f238ee9",
   "metadata": {},
   "outputs": [],
   "source": [
    "rnd=ROOT.TRandom3()\n",
    "rnd.SetSeed(int(time.time()))\n",
    "\n",
    "# Assumendo errore gaussiano (eth/sqrt(3)) \n",
    "# a) calcolo dell'errore su A e su B tramite variazione delle funzione\n",
    "# b) calcolo delle distribuzioni di A e B\n",
    "#    dell'errore su A, B e della loro correlazione\n",
    "\n",
    "# Ripetere punto b) nel caso in cui invece si assuma distribuzione uniforme con larghezza +/-eth\n"
   ]
  }
 ],
 "metadata": {
  "kernelspec": {
   "display_name": "Python 3",
   "language": "python",
   "name": "python3"
  },
  "language_info": {
   "codemirror_mode": {
    "name": "ipython",
    "version": 3
   },
   "file_extension": ".py",
   "mimetype": "text/x-python",
   "name": "python",
   "nbconvert_exporter": "python",
   "pygments_lexer": "ipython3",
   "version": "3.9.12"
  }
 },
 "nbformat": 4,
 "nbformat_minor": 5
}
